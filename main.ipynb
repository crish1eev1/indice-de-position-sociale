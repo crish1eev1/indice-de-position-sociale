{
 "cells": [
  {
   "cell_type": "markdown",
   "metadata": {},
   "source": [
    "<table>\n",
    "    <tr>\n",
    "        <th><p style=\"text-align:left\">DATA CONTENT & USE</p></th>\n",
    "        <th><p style=\"text-align:left\">SOURCE</p></th>\n",
    "        <th><p style=\"text-align:left\">INFORMATION LINK</p></th>\n",
    "        <th><p style=\"text-align:left\">UPDATE</p></th>\n",
    "    <tr>\n",
    "    <tr>\n",
    "        <td><p style=\"text-align:left\"><b>Indices de position sociale dans les collèges de France métropolitaine et DROM</b><br> \n",
    "        L’indice de position sociale (IPS) permet d'appréhender le statut social des élèves à partir des professions et catégories sociales (PCS) de leurs parents. Pour chaque PCS, la valeur numérique de l’IPS correspond à un résumé quantitatif d’un ensemble d’attributs socio-économiques et culturels liés à la réussite scolaire.</p></td>\n",
    "        <td><p style=\"text-align:left\">data.education.gouv.fr</p></td>\n",
    "        <td><p style=\"text-align:left\"><a href=\"https://data.education.gouv.fr/explore/dataset/fr-en-ips_colleges/table/?disjunctive.rentree_scolaire&disjunctive.academie&disjunctive.code_du_departement&disjunctive.departement&disjunctive.uai&disjunctive.code_insee_de_la_commune&disjunctive.nom_de_la_commune&disjunctive.secteur\", target=\"_blank\">Indices de position sociale dans les collèges de France métropolitaine et DROM</a></p></td>\n",
    "        <td><p style=\"text-align:left\">October, 2022</p></td>\n",
    "    </tr>\n",
    "    <tr>\n",
    "        <td><p style=\"text-align:left\"><b>Indices de position sociale dans les écoles de France métropolitaine et DROM </b><br>\n",
    "L’indice de position sociale (IPS) permet d'appréhender le statut social des élèves à partir des professions et catégories sociales (PCS) de leurs parents. Pour chaque PCS, la valeur numérique de l’IPS correspond à un résumé quantitatif d’un ensemble d’attributs socio-économiques et culturels liés à la réussite scolaire.</p></td>\n",
    "        <td><p style=\"text-align:left\">data.education.gouv.fr</p></td>\n",
    "        <td><p style=\"text-align:left\"><a href=\"https://data.education.gouv.fr/explore/dataset/fr-en-ips_ecoles/information/?disjunctive.academie&disjunctive.code_du_departement&disjunctive.departement&disjunctive.uai&disjunctive.code_insee_de_la_commune&disjunctive.nom_de_la_commune&disjunctive.secteur\", target=\"_blank\">Indices de position sociale dans les écoles de France métropolitaine et DROM</a></p></td>\n",
    "        <td><p style=\"text-align:left\">October, 2022</p></td>\n",
    "    </tr>\n",
    "    <tr>\n",
    "        <td><p style=\"text-align:left\"><b>Diplôme national du brevet par établissement</b><br> \n",
    "Ce jeu de données présente les résultats au diplôme national du brevet par établissement, pour les établissements de France métropolitaine et pour les départements et les régions d'Outre-Mer</p></td>\n",
    "        <td><p style=\"text-align:left\">data.education.gouv.fr</p></td>\n",
    "        <td><p style=\"text-align:left\"><a href=\"https://data.education.gouv.fr/explore/dataset/fr-en-dnb-par-etablissement/information/?disjunctive.session&disjunctive.numero_d_etablissement&disjunctive.denomination_principale&disjunctive.secteur_d_enseignement&disjunctive.commune_et_arrondissement&disjunctive.commune_et_arrondissement_lib_l&disjunctive.departement&disjunctive.departement_libelle&disjunctive.academie&disjunctive.academie_libelle&disjunctive.region&disjunctive.region_libelle\", target=\"_blank\">Diplôme national du brevet par établissement</a></p></td>\n",
    "        <td><p style=\"text-align:left\">June, 2022</p></td>\n",
    "    </tr>\n",
    "    <tr>\n",
    "        <td><p style=\"text-align:left\"><b>Adresse et géolocalisation des établissements d'enseignement du premier et second degrés </b><br> \n",
    "Liste géolocalisée des établissements d'enseignement des premier et second degrés (tous ministères de tutelle, secteurs public et privé) situés en France. Source : RAMSESE</p></td>\n",
    "        <td><p style=\"text-align:left\">data.education.gouv.fr</p></td>\n",
    "        <td><p style=\"text-align:left\"><a href=\"https://data.education.gouv.fr/explore/dataset/fr-en-adresse-et-geolocalisation-etablissements-premier-et-second-degre/table/?disjunctive.nature_uai&disjunctive.nature_uai_libe&disjunctive.code_departement&disjunctive.code_region&disjunctive.code_academie&disjunctive.secteur_prive_code_type_contrat&disjunctive.secteur_prive_libelle_type_contrat&disjunctive.code_ministere&disjunctive.libelle_ministere\", target=\"_blank\">Adresse et géolocalisation des établissements d'enseignement du premier et second degrés </a></p></td>\n",
    "        <td><p style=\"text-align:left\">October, 2022</p></td>\n",
    "    </tr>\n",
    "</table>   \n"
   ]
  },
  {
   "cell_type": "markdown",
   "metadata": {},
   "source": [
    "#### Importing librairies & modules"
   ]
  },
  {
   "cell_type": "code",
   "execution_count": 266,
   "metadata": {},
   "outputs": [],
   "source": [
    "import os\n",
    "import time\n",
    "import requests\n",
    "import pandas as pd\n",
    "\n",
    "import numpy as np\n",
    "import plotly.express as px\n",
    "from matplotlib import pyplot as plt"
   ]
  },
  {
   "cell_type": "markdown",
   "metadata": {},
   "source": [
    "#### Creating the relevant folders and paths"
   ]
  },
  {
   "cell_type": "code",
   "execution_count": 267,
   "metadata": {},
   "outputs": [
    {
     "name": "stdout",
     "output_type": "stream",
     "text": [
      "Already existing directory: c:\\Users\\33671\\Documents\\Python\\IPS\\da_data_raw\\2022-11-02\\\n",
      "Already existing directory: c:\\Users\\33671\\Documents\\Python\\IPS\\da_data_workfiles\\2022-11-02\\\n",
      "\n",
      "Main directory: c:\\Users\\33671\\Documents\\Python\\IPS\n",
      "Raw data folder: c:\\Users\\33671\\Documents\\Python\\IPS\\da_data_raw\\2022-11-02\\\n",
      "Workfile folder: c:\\Users\\33671\\Documents\\Python\\IPS\\da_data_workfiles\\2022-11-02\\\n"
     ]
    }
   ],
   "source": [
    "# Defining current folder as our main directory\n",
    "dirname = os.getcwd()\n",
    "\n",
    "# Getting current date\n",
    "datestr = time.strftime(\"%Y-%m-%d\")\n",
    "\n",
    "# location folders variables\n",
    "data_in = dirname + \"\\\\da_data_raw\\\\\" + datestr + \"\\\\\"\n",
    "data_out = dirname + \"\\\\da_data_workfiles\\\\\" + datestr + \"\\\\\"\n",
    "\n",
    "# Checking if data_in path is not present, then create it\n",
    "if not os.path.exists(data_in):\n",
    "    os.makedirs(data_in)\n",
    "    print(f\"Directory Created: {data_in}\")\n",
    "else: \n",
    "    print(f\"Already existing directory: {data_in}\")\n",
    "    \n",
    "# Checking if data_out path is not present then create it\n",
    "if not os.path.exists(data_out):\n",
    "    os.makedirs(data_out)\n",
    "    print(f\"Directory Created: {data_out}\")\n",
    "else:\n",
    "    print(f\"Already existing directory: {data_out}\")\n",
    "    \n",
    "# Printing main directories we will work with\n",
    "print(f\"\\nMain directory: {dirname}\")\n",
    "print(f\"Raw data folder: {data_in}\")\n",
    "print(f\"Workfile folder: {data_out}\")"
   ]
  },
  {
   "cell_type": "markdown",
   "metadata": {},
   "source": [
    "#### Verifying the api response"
   ]
  },
  {
   "cell_type": "code",
   "execution_count": 268,
   "metadata": {},
   "outputs": [
    {
     "name": "stdout",
     "output_type": "stream",
     "text": [
      "fr-en-ips_colleges\n",
      "URL: https://data.education.gouv.fr/api/v2/catalog/datasets/fr-en-ips_colleges/exports/json?limit=10\n",
      "HTTP Response Status Code: 200\n",
      "HTTP Error: None\n",
      "Encoding: utf-8\n",
      "Header content type: application/json; charset=utf-8\n",
      "Cookies: <RequestsCookieJar[]>\n",
      "\n",
      "fr-en-ips_ecoles\n",
      "URL: https://data.education.gouv.fr/api/v2/catalog/datasets/fr-en-ips_ecoles/exports/json?limit=10\n",
      "HTTP Response Status Code: 200\n",
      "HTTP Error: None\n",
      "Encoding: utf-8\n",
      "Header content type: application/json; charset=utf-8\n",
      "Cookies: <RequestsCookieJar[]>\n",
      "\n",
      "fr-en-dnb-par-etablissement\n",
      "URL: https://data.education.gouv.fr/api/v2/catalog/datasets/fr-en-dnb-par-etablissement/exports/json?limit=10\n",
      "HTTP Response Status Code: 200\n",
      "HTTP Error: None\n",
      "Encoding: utf-8\n",
      "Header content type: application/json; charset=utf-8\n",
      "Cookies: <RequestsCookieJar[]>\n",
      "\n",
      "fr-en-adresse-et-geolocalisation-etablissements-premier-et-second-degre\n",
      "URL: https://data.education.gouv.fr/api/v2/catalog/datasets/fr-en-adresse-et-geolocalisation-etablissements-premier-et-second-degre/exports/json?limit=10\n",
      "HTTP Response Status Code: 200\n",
      "HTTP Error: None\n",
      "Encoding: utf-8\n",
      "Header content type: application/json; charset=utf-8\n",
      "Cookies: <RequestsCookieJar[]>\n",
      "\n"
     ]
    }
   ],
   "source": [
    "#fr-en-ips_colleges\n",
    "dataset_id = \"fr-en-ips_colleges\"\n",
    "format = \"json\"\n",
    "limit = \"10\"\n",
    "r = requests.get(f\"https://data.education.gouv.fr/api/v2/catalog/datasets/{dataset_id}/exports/{format}?limit={limit}\", \n",
    "                 timeout=2)\n",
    "\n",
    "print(f\"{dataset_id}\")\n",
    "print(f\"URL: {r.url}\")\n",
    "print(f\"HTTP Response Status Code: {r.status_code}\") \n",
    "print(f\"HTTP Error: {r.raise_for_status()}\")\n",
    "print(f\"Encoding: {r.encoding}\")\n",
    "print(f\"Header content type: {r.headers.get('content-type')}\")\n",
    "print(f\"Cookies: {r.cookies}\\n\")\n",
    "\n",
    "r.close()\n",
    "\n",
    "\n",
    "#fr-en-ips_ecoles\n",
    "dataset_id = \"fr-en-ips_ecoles\"\n",
    "format = \"json\"\n",
    "limit = \"10\"\n",
    "r = requests.get(f\"https://data.education.gouv.fr/api/v2/catalog/datasets/{dataset_id}/exports/{format}?limit={limit}\", \n",
    "                 timeout=2)\n",
    "\n",
    "print(f\"{dataset_id}\")\n",
    "print(f\"URL: {r.url}\")\n",
    "print(f\"HTTP Response Status Code: {r.status_code}\") \n",
    "print(f\"HTTP Error: {r.raise_for_status()}\")\n",
    "print(f\"Encoding: {r.encoding}\")\n",
    "print(f\"Header content type: {r.headers.get('content-type')}\")\n",
    "print(f\"Cookies: {r.cookies}\\n\")\n",
    "\n",
    "r.close()\n",
    "\n",
    "\n",
    "#fr-en-dnb-par-etablissement\n",
    "dataset_id = \"fr-en-dnb-par-etablissement\"\n",
    "format = \"json\"\n",
    "limit = \"10\"\n",
    "r = requests.get(f\"https://data.education.gouv.fr/api/v2/catalog/datasets/{dataset_id}/exports/{format}?limit={limit}\", \n",
    "                 timeout=2)\n",
    "\n",
    "print(f\"{dataset_id}\")\n",
    "print(f\"URL: {r.url}\")\n",
    "print(f\"HTTP Response Status Code: {r.status_code}\") \n",
    "print(f\"HTTP Error: {r.raise_for_status()}\")\n",
    "print(f\"Encoding: {r.encoding}\")\n",
    "print(f\"Header content type: {r.headers.get('content-type')}\")\n",
    "print(f\"Cookies: {r.cookies}\\n\")\n",
    "\n",
    "r.close()\n",
    "\n",
    "\n",
    "#fr-en-adresse-et-geolocalisation-etablissements-premier-et-second-degre\n",
    "dataset_id = \"fr-en-adresse-et-geolocalisation-etablissements-premier-et-second-degre\"\n",
    "format = \"json\"\n",
    "limit = \"10\"\n",
    "r = requests.get(f\"https://data.education.gouv.fr/api/v2/catalog/datasets/{dataset_id}/exports/{format}?limit={limit}\", \n",
    "                 timeout=2)\n",
    "\n",
    "print(f\"{dataset_id}\")\n",
    "print(f\"URL: {r.url}\")\n",
    "print(f\"HTTP Response Status Code: {r.status_code}\") \n",
    "print(f\"HTTP Error: {r.raise_for_status()}\")\n",
    "print(f\"Encoding: {r.encoding}\")\n",
    "print(f\"Header content type: {r.headers.get('content-type')}\")\n",
    "print(f\"Cookies: {r.cookies}\\n\")\n",
    "\n",
    "r.close()"
   ]
  },
  {
   "cell_type": "markdown",
   "metadata": {},
   "source": [
    "#### Data Collection"
   ]
  },
  {
   "cell_type": "markdown",
   "metadata": {},
   "source": [
    "ips_colleges dataframe"
   ]
  },
  {
   "cell_type": "code",
   "execution_count": 269,
   "metadata": {},
   "outputs": [],
   "source": [
    "dataset_id = \"fr-en-ips_colleges\"\n",
    "format = \"json\"\n",
    "limit = \"-1\" # argument to pass to get the full dataset \n",
    "df_raw_ips_colleges = pd.read_json(f\"https://data.education.gouv.fr/api/v2/catalog/datasets/{dataset_id}/exports/{format}?limit={limit}\")"
   ]
  },
  {
   "cell_type": "code",
   "execution_count": 270,
   "metadata": {},
   "outputs": [],
   "source": [
    "df_raw_ips_colleges['type_etablissement']=\"COLLEGE\""
   ]
  },
  {
   "cell_type": "code",
   "execution_count": 271,
   "metadata": {},
   "outputs": [
    {
     "data": {
      "text/html": [
       "<div>\n",
       "<style scoped>\n",
       "    .dataframe tbody tr th:only-of-type {\n",
       "        vertical-align: middle;\n",
       "    }\n",
       "\n",
       "    .dataframe tbody tr th {\n",
       "        vertical-align: top;\n",
       "    }\n",
       "\n",
       "    .dataframe thead th {\n",
       "        text-align: right;\n",
       "    }\n",
       "</style>\n",
       "<table border=\"1\" class=\"dataframe\">\n",
       "  <thead>\n",
       "    <tr style=\"text-align: right;\">\n",
       "      <th></th>\n",
       "      <th>rentree_scolaire</th>\n",
       "      <th>academie</th>\n",
       "      <th>code_du_departement</th>\n",
       "      <th>departement</th>\n",
       "      <th>uai</th>\n",
       "      <th>nom_de_l_etablissment</th>\n",
       "      <th>code_insee_de_la_commune</th>\n",
       "      <th>nom_de_la_commune</th>\n",
       "      <th>secteur</th>\n",
       "      <th>ips</th>\n",
       "      <th>type_etablissement</th>\n",
       "    </tr>\n",
       "  </thead>\n",
       "  <tbody>\n",
       "    <tr>\n",
       "      <th>1236</th>\n",
       "      <td>2021-2022</td>\n",
       "      <td>VERSAILLES</td>\n",
       "      <td>092</td>\n",
       "      <td>HAUTS-DE-SEINE</td>\n",
       "      <td>0920905J</td>\n",
       "      <td>COLLEGE PRIVE SAINT JOSEPH</td>\n",
       "      <td>92012</td>\n",
       "      <td>BOULOGNE BILLANCOURT</td>\n",
       "      <td>privé sous contrat</td>\n",
       "      <td>148.9</td>\n",
       "      <td>COLLEGE</td>\n",
       "    </tr>\n",
       "    <tr>\n",
       "      <th>2316</th>\n",
       "      <td>2021-2022</td>\n",
       "      <td>GRENOBLE</td>\n",
       "      <td>073</td>\n",
       "      <td>SAVOIE</td>\n",
       "      <td>0731204M</td>\n",
       "      <td>COLLEGE JEAN JACQUES PERRET</td>\n",
       "      <td>73008</td>\n",
       "      <td>AIX LES BAINS</td>\n",
       "      <td>public</td>\n",
       "      <td>122.2</td>\n",
       "      <td>COLLEGE</td>\n",
       "    </tr>\n",
       "    <tr>\n",
       "      <th>320</th>\n",
       "      <td>2021-2022</td>\n",
       "      <td>MONTPELLIER</td>\n",
       "      <td>030</td>\n",
       "      <td>GARD</td>\n",
       "      <td>0300031W</td>\n",
       "      <td>COLLEGE GEORGE VILLE</td>\n",
       "      <td>30202</td>\n",
       "      <td>PONT SAINT ESPRIT</td>\n",
       "      <td>public</td>\n",
       "      <td>97.0</td>\n",
       "      <td>COLLEGE</td>\n",
       "    </tr>\n",
       "    <tr>\n",
       "      <th>4861</th>\n",
       "      <td>2021-2022</td>\n",
       "      <td>DIJON</td>\n",
       "      <td>058</td>\n",
       "      <td>NIEVRE</td>\n",
       "      <td>0580669M</td>\n",
       "      <td>COLLEGE CLAUDE TILLIER</td>\n",
       "      <td>58086</td>\n",
       "      <td>COSNE COURS SUR LOIRE</td>\n",
       "      <td>public</td>\n",
       "      <td>99.1</td>\n",
       "      <td>COLLEGE</td>\n",
       "    </tr>\n",
       "    <tr>\n",
       "      <th>6310</th>\n",
       "      <td>2021-2022</td>\n",
       "      <td>NORMANDIE</td>\n",
       "      <td>061</td>\n",
       "      <td>ORNE</td>\n",
       "      <td>0610800N</td>\n",
       "      <td>COLLEGE JACQUES BREL</td>\n",
       "      <td>61168</td>\n",
       "      <td>LA FERTE MACE</td>\n",
       "      <td>public</td>\n",
       "      <td>97.9</td>\n",
       "      <td>COLLEGE</td>\n",
       "    </tr>\n",
       "  </tbody>\n",
       "</table>\n",
       "</div>"
      ],
      "text/plain": [
       "     rentree_scolaire     academie code_du_departement     departement  \\\n",
       "1236        2021-2022   VERSAILLES                 092  HAUTS-DE-SEINE   \n",
       "2316        2021-2022     GRENOBLE                 073          SAVOIE   \n",
       "320         2021-2022  MONTPELLIER                 030            GARD   \n",
       "4861        2021-2022        DIJON                 058          NIEVRE   \n",
       "6310        2021-2022    NORMANDIE                 061            ORNE   \n",
       "\n",
       "           uai        nom_de_l_etablissment code_insee_de_la_commune  \\\n",
       "1236  0920905J   COLLEGE PRIVE SAINT JOSEPH                    92012   \n",
       "2316  0731204M  COLLEGE JEAN JACQUES PERRET                    73008   \n",
       "320   0300031W         COLLEGE GEORGE VILLE                    30202   \n",
       "4861  0580669M       COLLEGE CLAUDE TILLIER                    58086   \n",
       "6310  0610800N         COLLEGE JACQUES BREL                    61168   \n",
       "\n",
       "          nom_de_la_commune             secteur    ips type_etablissement  \n",
       "1236   BOULOGNE BILLANCOURT  privé sous contrat  148.9            COLLEGE  \n",
       "2316          AIX LES BAINS              public  122.2            COLLEGE  \n",
       "320       PONT SAINT ESPRIT              public   97.0            COLLEGE  \n",
       "4861  COSNE COURS SUR LOIRE              public   99.1            COLLEGE  \n",
       "6310          LA FERTE MACE              public   97.9            COLLEGE  "
      ]
     },
     "execution_count": 271,
     "metadata": {},
     "output_type": "execute_result"
    }
   ],
   "source": [
    "df_raw_ips_colleges.sample(5)"
   ]
  },
  {
   "cell_type": "markdown",
   "metadata": {},
   "source": [
    "ips_ecoles dataframe"
   ]
  },
  {
   "cell_type": "code",
   "execution_count": 272,
   "metadata": {},
   "outputs": [],
   "source": [
    "dataset_id = \"fr-en-ips_ecoles\"\n",
    "format = \"json\"\n",
    "limit = \"-1\" # argument to pass to get the full dataset \n",
    "df_raw_ips_ecoles = pd.read_json(f\"https://data.education.gouv.fr/api/v2/catalog/datasets/{dataset_id}/exports/{format}?limit={limit}\")"
   ]
  },
  {
   "cell_type": "code",
   "execution_count": 273,
   "metadata": {},
   "outputs": [],
   "source": [
    "df_raw_ips_ecoles['type_etablissement']=\"ECOLE\""
   ]
  },
  {
   "cell_type": "code",
   "execution_count": 274,
   "metadata": {},
   "outputs": [
    {
     "data": {
      "text/html": [
       "<div>\n",
       "<style scoped>\n",
       "    .dataframe tbody tr th:only-of-type {\n",
       "        vertical-align: middle;\n",
       "    }\n",
       "\n",
       "    .dataframe tbody tr th {\n",
       "        vertical-align: top;\n",
       "    }\n",
       "\n",
       "    .dataframe thead th {\n",
       "        text-align: right;\n",
       "    }\n",
       "</style>\n",
       "<table border=\"1\" class=\"dataframe\">\n",
       "  <thead>\n",
       "    <tr style=\"text-align: right;\">\n",
       "      <th></th>\n",
       "      <th>rentree_scolaire</th>\n",
       "      <th>academie</th>\n",
       "      <th>code_du_departement</th>\n",
       "      <th>departement</th>\n",
       "      <th>uai</th>\n",
       "      <th>nom_de_l_etablissment</th>\n",
       "      <th>code_insee_de_la_commune</th>\n",
       "      <th>nom_de_la_commune</th>\n",
       "      <th>secteur</th>\n",
       "      <th>ips</th>\n",
       "      <th>type_etablissement</th>\n",
       "    </tr>\n",
       "  </thead>\n",
       "  <tbody>\n",
       "    <tr>\n",
       "      <th>17788</th>\n",
       "      <td>2021-2022</td>\n",
       "      <td>CRETEIL</td>\n",
       "      <td>077</td>\n",
       "      <td>SEINE-ET-MARNE</td>\n",
       "      <td>0770188L</td>\n",
       "      <td>ECOLE ELEMENTAIRE HENRI BARBUSSE</td>\n",
       "      <td>77294</td>\n",
       "      <td>MITRY MORY</td>\n",
       "      <td>public</td>\n",
       "      <td>100.1</td>\n",
       "      <td>ECOLE</td>\n",
       "    </tr>\n",
       "    <tr>\n",
       "      <th>3856</th>\n",
       "      <td>2021-2022</td>\n",
       "      <td>BORDEAUX</td>\n",
       "      <td>033</td>\n",
       "      <td>GIRONDE</td>\n",
       "      <td>0332544L</td>\n",
       "      <td>ECOLE PRIMAIRE PRIVEE SAINT GABRIEL</td>\n",
       "      <td>33063</td>\n",
       "      <td>BORDEAUX</td>\n",
       "      <td>privé sous contrat</td>\n",
       "      <td>143.8</td>\n",
       "      <td>ECOLE</td>\n",
       "    </tr>\n",
       "    <tr>\n",
       "      <th>21187</th>\n",
       "      <td>2021-2022</td>\n",
       "      <td>VERSAILLES</td>\n",
       "      <td>092</td>\n",
       "      <td>HAUTS-DE-SEINE</td>\n",
       "      <td>0921576N</td>\n",
       "      <td>ECOLE PRIMAIRE PUBLIQUE PAUL LANGEVIN</td>\n",
       "      <td>92046</td>\n",
       "      <td>MALAKOFF</td>\n",
       "      <td>public</td>\n",
       "      <td>104.7</td>\n",
       "      <td>ECOLE</td>\n",
       "    </tr>\n",
       "    <tr>\n",
       "      <th>27765</th>\n",
       "      <td>2021-2022</td>\n",
       "      <td>GRENOBLE</td>\n",
       "      <td>038</td>\n",
       "      <td>ISERE</td>\n",
       "      <td>0380398B</td>\n",
       "      <td>ECOLE PRIMAIRE LES DAUPHINS</td>\n",
       "      <td>38138</td>\n",
       "      <td>CREMIEU</td>\n",
       "      <td>public</td>\n",
       "      <td>111.4</td>\n",
       "      <td>ECOLE</td>\n",
       "    </tr>\n",
       "    <tr>\n",
       "      <th>27086</th>\n",
       "      <td>2021-2022</td>\n",
       "      <td>RENNES</td>\n",
       "      <td>029</td>\n",
       "      <td>FINISTERE</td>\n",
       "      <td>0291250B</td>\n",
       "      <td>ECOLE PRIMAIRE PRIVEE SAINTE THERESE</td>\n",
       "      <td>29069</td>\n",
       "      <td>GUILERS</td>\n",
       "      <td>privé sous contrat</td>\n",
       "      <td>116.4</td>\n",
       "      <td>ECOLE</td>\n",
       "    </tr>\n",
       "  </tbody>\n",
       "</table>\n",
       "</div>"
      ],
      "text/plain": [
       "      rentree_scolaire    academie code_du_departement     departement  \\\n",
       "17788        2021-2022     CRETEIL                 077  SEINE-ET-MARNE   \n",
       "3856         2021-2022    BORDEAUX                 033         GIRONDE   \n",
       "21187        2021-2022  VERSAILLES                 092  HAUTS-DE-SEINE   \n",
       "27765        2021-2022    GRENOBLE                 038           ISERE   \n",
       "27086        2021-2022      RENNES                 029       FINISTERE   \n",
       "\n",
       "            uai                  nom_de_l_etablissment  \\\n",
       "17788  0770188L       ECOLE ELEMENTAIRE HENRI BARBUSSE   \n",
       "3856   0332544L    ECOLE PRIMAIRE PRIVEE SAINT GABRIEL   \n",
       "21187  0921576N  ECOLE PRIMAIRE PUBLIQUE PAUL LANGEVIN   \n",
       "27765  0380398B            ECOLE PRIMAIRE LES DAUPHINS   \n",
       "27086  0291250B   ECOLE PRIMAIRE PRIVEE SAINTE THERESE   \n",
       "\n",
       "      code_insee_de_la_commune nom_de_la_commune             secteur    ips  \\\n",
       "17788                    77294        MITRY MORY              public  100.1   \n",
       "3856                     33063          BORDEAUX  privé sous contrat  143.8   \n",
       "21187                    92046          MALAKOFF              public  104.7   \n",
       "27765                    38138           CREMIEU              public  111.4   \n",
       "27086                    29069           GUILERS  privé sous contrat  116.4   \n",
       "\n",
       "      type_etablissement  \n",
       "17788              ECOLE  \n",
       "3856               ECOLE  \n",
       "21187              ECOLE  \n",
       "27765              ECOLE  \n",
       "27086              ECOLE  "
      ]
     },
     "execution_count": 274,
     "metadata": {},
     "output_type": "execute_result"
    }
   ],
   "source": [
    "df_raw_ips_ecoles.sample(5)"
   ]
  },
  {
   "cell_type": "markdown",
   "metadata": {},
   "source": [
    "dnb-par-etablissement dataframe"
   ]
  },
  {
   "cell_type": "code",
   "execution_count": null,
   "metadata": {},
   "outputs": [],
   "source": [
    "dataset_id = \"fr-en-dnb-par-etablissement\"\n",
    "format = \"json\"\n",
    "limit = \"-1\" # argument to pass to get the full dataset \n",
    "df_raw_dnb_par_etablissement = pd.read_json(f\"https://data.education.gouv.fr/api/v2/catalog/datasets/{dataset_id}/exports/{format}?limit={limit}\")"
   ]
  },
  {
   "cell_type": "code",
   "execution_count": null,
   "metadata": {},
   "outputs": [],
   "source": [
    "df_raw_dnb_par_etablissement.head() "
   ]
  },
  {
   "cell_type": "code",
   "execution_count": null,
   "metadata": {},
   "outputs": [],
   "source": [
    "df_raw_dnb_par_etablissement[df_raw_dnb_par_etablissement['session'] == 2021]['denomination_principale'].value_counts()"
   ]
  },
  {
   "cell_type": "markdown",
   "metadata": {},
   "source": [
    "#### IPS All "
   ]
  },
  {
   "cell_type": "code",
   "execution_count": null,
   "metadata": {},
   "outputs": [],
   "source": [
    "df_raw_ips = pd.concat([df_raw_ips_colleges, df_raw_ips_ecoles])"
   ]
  },
  {
   "cell_type": "code",
   "execution_count": null,
   "metadata": {},
   "outputs": [],
   "source": [
    "df_raw_ips.sample(5)"
   ]
  },
  {
   "cell_type": "code",
   "execution_count": null,
   "metadata": {},
   "outputs": [],
   "source": [
    "print(f\"df_raw_ips_colleges N = {len(df_raw_ips_colleges)}\")\n",
    "print(f\"df_raw_ips_ecoles N = {len(df_raw_ips_ecoles)}\")\n",
    "print(f\"df_raw_ips N = {len(df_raw_ips)}\")\n",
    "print(len(df_raw_ips_colleges) + len(df_raw_ips_ecoles) == len(df_raw_ips))"
   ]
  },
  {
   "cell_type": "code",
   "execution_count": null,
   "metadata": {},
   "outputs": [],
   "source": [
    "df_raw_ips['uai'].nunique()"
   ]
  },
  {
   "cell_type": "markdown",
   "metadata": {},
   "source": [
    "#### Merging to Master File"
   ]
  },
  {
   "cell_type": "code",
   "execution_count": null,
   "metadata": {},
   "outputs": [],
   "source": [
    "df_raw_dnb_par_etablissement_2021 = df_raw_dnb_par_etablissement[df_raw_dnb_par_etablissement['session'] == 2021]"
   ]
  },
  {
   "cell_type": "code",
   "execution_count": null,
   "metadata": {},
   "outputs": [],
   "source": [
    "df_raw_dnb_par_etablissement_2021 = df_raw_dnb_par_etablissement_2021.rename(columns = {'numero_d_etablissement': 'uai'})"
   ]
  },
  {
   "cell_type": "code",
   "execution_count": null,
   "metadata": {},
   "outputs": [],
   "source": [
    "df_raw_dnb_par_etablissement_2021['uai'] = df_raw_dnb_par_etablissement_2021['uai'].astype('string')\n",
    "df_raw_ips['uai'] = df_raw_ips['uai'].astype('string')"
   ]
  },
  {
   "cell_type": "code",
   "execution_count": null,
   "metadata": {},
   "outputs": [],
   "source": [
    "len(df_raw_dnb_par_etablissement_2021)"
   ]
  },
  {
   "cell_type": "code",
   "execution_count": null,
   "metadata": {},
   "outputs": [],
   "source": [
    "df_raw = df_raw_ips.join(df_raw_dnb_par_etablissement_2021.set_index('uai'), on='uai', how='left', rsuffix='right')\n",
    "df_raw.head()"
   ]
  },
  {
   "cell_type": "code",
   "execution_count": null,
   "metadata": {},
   "outputs": [],
   "source": [
    "df_raw = df_raw.applymap(lambda x: x.lower() if type(x) == str else x)\n",
    "df_raw.info()"
   ]
  },
  {
   "cell_type": "code",
   "execution_count": null,
   "metadata": {},
   "outputs": [],
   "source": [
    "df_raw.head()"
   ]
  },
  {
   "cell_type": "code",
   "execution_count": null,
   "metadata": {},
   "outputs": [],
   "source": [
    "# compare difference between type and denomination_principale for type=college partial dataframe\n",
    "(df_raw[df_raw[\"type_etablissement\"] == \"college\"][\"type_etablissement\"] != df_raw[df_raw[\"type_etablissement\"] == \"college\"][\"denomination_principale\"]).value_counts()  #count"
   ]
  },
  {
   "cell_type": "code",
   "execution_count": null,
   "metadata": {},
   "outputs": [],
   "source": [
    "df_raw[df_raw[\"type_etablissement\"] == \"college\"][df_raw[df_raw[\"type_etablissement\"] == \"college\"][\"type_etablissement\"] != df_raw[df_raw[\"type_etablissement\"] == \"college\"][\"denomination_principale\"]]"
   ]
  },
  {
   "cell_type": "markdown",
   "metadata": {},
   "source": [
    "40 colleges n'ont pas de resultats de brevets disponibles dans la base dnb"
   ]
  },
  {
   "cell_type": "code",
   "execution_count": null,
   "metadata": {},
   "outputs": [],
   "source": [
    "# renaming \"privé sous contrat\" in \"prive\"\n",
    "df_raw.loc[df_raw[\"secteur\"] == \"privé sous contrat\", \"secteur\"] = \"prive\""
   ]
  },
  {
   "cell_type": "code",
   "execution_count": null,
   "metadata": {},
   "outputs": [],
   "source": [
    "#check if only 40 values are different \n",
    "(df_raw[df_raw[\"type_etablissement\"] == \"college\"][\"secteur\"] == df_raw[df_raw[\"type_etablissement\"] == \"college\"][\"secteur_d_enseignement\"]).value_counts()  #count"
   ]
  },
  {
   "cell_type": "code",
   "execution_count": null,
   "metadata": {},
   "outputs": [],
   "source": [
    "#check if only 40 values are different \n",
    "(df_raw[df_raw[\"type_etablissement\"] == \"college\"][\"code_insee_de_la_commune\"] == df_raw[df_raw[\"type_etablissement\"] == \"college\"][\"commune_et_arrondissement\"]).value_counts()  #count"
   ]
  },
  {
   "cell_type": "code",
   "execution_count": null,
   "metadata": {},
   "outputs": [],
   "source": [
    "#check if only 40 values are different \n",
    "(df_raw[df_raw[\"type_etablissement\"] == \"college\"][\"code_du_departement\"] == df_raw[df_raw[\"type_etablissement\"] == \"college\"][\"departementright\"]).value_counts()  #count"
   ]
  },
  {
   "cell_type": "code",
   "execution_count": null,
   "metadata": {},
   "outputs": [],
   "source": [
    "(df_raw[df_raw[\"type_etablissement\"] == \"college\"][\"departement\"] == df_raw[df_raw[\"type_etablissement\"] == \"college\"][\"departement_libelle\"]).value_counts()  #count"
   ]
  },
  {
   "cell_type": "code",
   "execution_count": null,
   "metadata": {},
   "outputs": [],
   "source": [
    "(df_raw[df_raw[\"type_etablissement\"] == \"college\"][\"academie\"] == df_raw[df_raw[\"type_etablissement\"] == \"college\"][\"academie_libelle\"]).value_counts()  #count"
   ]
  },
  {
   "cell_type": "code",
   "execution_count": null,
   "metadata": {},
   "outputs": [],
   "source": [
    "# Removing joined columns not bringing any value\n",
    "df_raw.drop(columns=['session', 'denomination_principale', 'secteur_d_enseignement', 'commune_et_arrondissement', 'commune_et_arrondissement_lib_l', 'departementright', \n",
    "                     'departement_libelle', 'academieright', 'academie_libelle', 'region', 'region_libelle'], \n",
    "        errors='ignore', \n",
    "        inplace=True)\n",
    "\n",
    "df_raw.head()"
   ]
  },
  {
   "cell_type": "code",
   "execution_count": null,
   "metadata": {},
   "outputs": [],
   "source": [
    "# Creating a copy of the dataframe\n",
    "df = df_raw.copy()"
   ]
  },
  {
   "cell_type": "code",
   "execution_count": null,
   "metadata": {},
   "outputs": [],
   "source": [
    "# Moving columns\n",
    "uai = df.pop('uai')\n",
    "df.insert(0, 'uai', uai)\n",
    "del uai\n",
    "\n",
    "nom_de_l_etablissment = df.pop('nom_de_l_etablissment')\n",
    "df.insert(1, 'nom_de_l_etablissment', nom_de_l_etablissment)\n",
    "del nom_de_l_etablissment\n",
    "\n",
    "patronyme = df.pop('patronyme')\n",
    "df.insert(2, 'patronyme', patronyme)\n",
    "del patronyme\n",
    "\n",
    "type = df.pop('type_etablissement')\n",
    "df.insert(3, 'type_etablissement', type)\n",
    "del type\n",
    "\n",
    "rentree_scolaire = df.pop('rentree_scolaire')\n",
    "df.insert(11, 'rentree_scolaire', rentree_scolaire)\n",
    "del rentree_scolaire\n",
    "\n",
    "df.head()"
   ]
  },
  {
   "cell_type": "code",
   "execution_count": null,
   "metadata": {},
   "outputs": [],
   "source": [
    "timestr = time.strftime(\"%Y-%m-%d_%H-%M-%S\")\n",
    "file_name = \"trash_\" + timestr + \".csv\"\n",
    "print(f\"file name: {file_name}\")\n",
    "df.to_csv(data_in + file_name, index = False)"
   ]
  },
  {
   "cell_type": "markdown",
   "metadata": {},
   "source": [
    "#### Exporting raw data to CSV"
   ]
  },
  {
   "cell_type": "code",
   "execution_count": null,
   "metadata": {},
   "outputs": [],
   "source": [
    "# Generating a raw csv file with timestamp included in the name\n",
    "timestr = time.strftime(\"%Y-%m-%d_%H-%M-%S\")\n",
    "file_name = \"ips-colleges_\" + timestr + \".csv\"\n",
    "print(f\"file name: {file_name}\")\n",
    "df_raw_ips_colleges.to_csv(data_in + file_name, index = False)\n",
    "\n",
    "timestr = time.strftime(\"%Y-%m-%d_%H-%M-%S\")\n",
    "file_name = \"ips-ecoles_\" + timestr + \".csv\"\n",
    "print(f\"file name: {file_name}\")\n",
    "df_raw_ips_ecoles.to_csv(data_in + file_name, index = False)\n",
    "\n",
    "timestr = time.strftime(\"%Y-%m-%d_%H-%M-%S\")\n",
    "file_name = \"ips_\" + timestr + \".csv\"\n",
    "print(f\"file name: {file_name}\")\n",
    "df_raw_ips.to_csv(data_in + file_name, index = False)\n",
    "\n",
    "timestr = time.strftime(\"%Y-%m-%d_%H-%M-%S\")\n",
    "file_name = \"all_\" + timestr + \".csv\"\n",
    "print(f\"file name: {file_name}\")\n",
    "df_raw.to_csv(data_in + file_name, index = False)\n",
    "\n",
    "timestr = time.strftime(\"%Y-%m-%d_%H-%M-%S\")\n",
    "file_name = \"dnb-par-etablissement_\" + timestr + \".csv\"\n",
    "print(f\"file name: {file_name}\")\n",
    "df_raw_dnb_par_etablissement.to_csv(data_in + file_name, index = False)\n"
   ]
  },
  {
   "cell_type": "markdown",
   "metadata": {},
   "source": [
    "#### Violin stuff"
   ]
  },
  {
   "cell_type": "code",
   "execution_count": null,
   "metadata": {},
   "outputs": [],
   "source": [
    "fig = px.violin(df, y = 'ips', color = 'secteur', box=True)\n",
    "\n",
    "fig.show()"
   ]
  },
  {
   "cell_type": "code",
   "execution_count": null,
   "metadata": {},
   "outputs": [],
   "source": [
    "df['taux_de_reussite'] = df['taux_de_reussite'].str.replace(',','.')\n",
    "df['taux_de_reussite'] = df['taux_de_reussite'].str.replace('%','')"
   ]
  },
  {
   "cell_type": "code",
   "execution_count": null,
   "metadata": {},
   "outputs": [],
   "source": [
    "df['taux_de_reussite']"
   ]
  },
  {
   "cell_type": "code",
   "execution_count": null,
   "metadata": {},
   "outputs": [],
   "source": [
    "df['taux_de_reussite'] = df['taux_de_reussite'].astype('float')"
   ]
  },
  {
   "cell_type": "code",
   "execution_count": null,
   "metadata": {},
   "outputs": [],
   "source": [
    "fig = px.violin(df, y = 'taux_de_reussite', color = 'secteur', box=True)\n",
    "\n",
    "fig.show()"
   ]
  },
  {
   "cell_type": "markdown",
   "metadata": {},
   "source": [
    "#### Split privé public par IPS"
   ]
  },
  {
   "cell_type": "code",
   "execution_count": null,
   "metadata": {},
   "outputs": [],
   "source": [
    "#define groups\n",
    "bins = [0, 90, 100, 110, 120, 130, 140, 999]\n",
    "groups_ecole = df_raw_ips_ecoles.groupby(['secteur', pd.cut(df_raw_ips_ecoles.ips, bins)])\n",
    "\n",
    "#display bin count grouped by team\n",
    "ips_ecole_split = groups_ecole.size().unstack()\n",
    "ips_ecole_split"
   ]
  },
  {
   "cell_type": "code",
   "execution_count": null,
   "metadata": {},
   "outputs": [],
   "source": [
    "ips_ecole_split = ips_ecole_split.T\n",
    "ips_ecole_split"
   ]
  },
  {
   "cell_type": "code",
   "execution_count": null,
   "metadata": {},
   "outputs": [],
   "source": [
    "ips_ecole_split.index.name = None\n",
    "ips_ecole_split"
   ]
  },
  {
   "cell_type": "code",
   "execution_count": null,
   "metadata": {},
   "outputs": [],
   "source": [
    "ips_ecole_split = ips_ecole_split.div(ips_ecole_split.sum(axis=1), axis=0)\n",
    "ips_ecole_split"
   ]
  },
  {
   "cell_type": "code",
   "execution_count": null,
   "metadata": {},
   "outputs": [],
   "source": [
    "ips_ecole_split.reset_index(inplace=True)\n",
    "ips_ecole_split"
   ]
  },
  {
   "cell_type": "code",
   "execution_count": null,
   "metadata": {},
   "outputs": [],
   "source": [
    "ips_ecole_split['index'] = ips_ecole_split['index'].astype('string')\n",
    "ips_ecole_split"
   ]
  },
  {
   "cell_type": "code",
   "execution_count": null,
   "metadata": {},
   "outputs": [],
   "source": [
    "ips_ecole_split['privé sous contrat']+ips_ecole_split['public']"
   ]
  },
  {
   "cell_type": "code",
   "execution_count": null,
   "metadata": {},
   "outputs": [],
   "source": [
    "fig, ax = plt.subplots()\n",
    "# First plot the 'Male' bars for every day.\n",
    "ax.bar(ips_ecole_split['index'], (ips_ecole_split['privé sous contrat']+ips_ecole_split['public']), label='public')\n",
    "ax.bar(ips_ecole_split['index'], ips_ecole_split['privé sous contrat'], label='privé sous contrat')\n",
    "\n",
    "\n",
    "# Then plot the 'Female' bars on top, starting at the top of the 'Male'\n",
    "# bars.\n",
    "\n",
    "ax.set_title('Tips by Day and Gender')\n",
    "ax.legend()"
   ]
  }
 ],
 "metadata": {
  "kernelspec": {
   "display_name": "Python 3.11.0 ('venv': venv)",
   "language": "python",
   "name": "python3"
  },
  "language_info": {
   "codemirror_mode": {
    "name": "ipython",
    "version": 3
   },
   "file_extension": ".py",
   "mimetype": "text/x-python",
   "name": "python",
   "nbconvert_exporter": "python",
   "pygments_lexer": "ipython3",
   "version": "3.10.4"
  },
  "orig_nbformat": 4,
  "vscode": {
   "interpreter": {
    "hash": "118d754e5dfff63bdb253f47183cf46b74e3eead6b26313656acb26179c020c1"
   }
  }
 },
 "nbformat": 4,
 "nbformat_minor": 2
}
